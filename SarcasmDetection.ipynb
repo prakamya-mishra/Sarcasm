{
 "cells": [
  {
   "cell_type": "code",
   "execution_count": 29,
   "metadata": {},
   "outputs": [
    {
     "ename": "ModuleNotFoundError",
     "evalue": "No module named 'tensorflow_hub'",
     "output_type": "error",
     "traceback": [
      "\u001b[0;31m---------------------------------------------------------------------------\u001b[0m",
      "\u001b[0;31mModuleNotFoundError\u001b[0m                       Traceback (most recent call last)",
      "\u001b[0;32m<ipython-input-29-86aebc2977c0>\u001b[0m in \u001b[0;36m<module>\u001b[0;34m\u001b[0m\n\u001b[1;32m      8\u001b[0m \u001b[0;32mimport\u001b[0m \u001b[0mos\u001b[0m\u001b[0;34m\u001b[0m\u001b[0;34m\u001b[0m\u001b[0m\n\u001b[1;32m      9\u001b[0m \u001b[0;32mimport\u001b[0m \u001b[0mtime\u001b[0m\u001b[0;34m\u001b[0m\u001b[0;34m\u001b[0m\u001b[0m\n\u001b[0;32m---> 10\u001b[0;31m \u001b[0;32mimport\u001b[0m \u001b[0mtensorflow_hub\u001b[0m \u001b[0;32mas\u001b[0m \u001b[0mhub\u001b[0m\u001b[0;34m\u001b[0m\u001b[0;34m\u001b[0m\u001b[0m\n\u001b[0m",
      "\u001b[0;31mModuleNotFoundError\u001b[0m: No module named 'tensorflow_hub'"
     ]
    }
   ],
   "source": [
    "import pandas as pd\n",
    "import numpy as np\n",
    "import nltk\n",
    "from nltk import word_tokenize\n",
    "from nltk.corpus import stopwords, wordnet\n",
    "from nltk.stem import WordNetLemmatizer\n",
    "import re\n",
    "import os\n",
    "import time\n",
    "import tensorflow_hub as hub"
   ]
  },
  {
   "cell_type": "code",
   "execution_count": 2,
   "metadata": {},
   "outputs": [],
   "source": [
    "stop_words = set(stopwords.words('english'))"
   ]
  },
  {
   "cell_type": "code",
   "execution_count": 4,
   "metadata": {},
   "outputs": [],
   "source": [
    "dictionary = []"
   ]
  },
  {
   "cell_type": "code",
   "execution_count": 5,
   "metadata": {},
   "outputs": [],
   "source": [
    "embeddings = {}"
   ]
  },
  {
   "cell_type": "code",
   "execution_count": 6,
   "metadata": {},
   "outputs": [],
   "source": [
    "df = pd.read_csv(\"data/dataset/train-balanced-sarcasm.csv\")"
   ]
  },
  {
   "cell_type": "code",
   "execution_count": 7,
   "metadata": {},
   "outputs": [],
   "source": [
    "df_new = df[['parent_comment','comment','label']]"
   ]
  },
  {
   "cell_type": "code",
   "execution_count": 8,
   "metadata": {},
   "outputs": [],
   "source": [
    "df_new = df_new.sample(100000)"
   ]
  },
  {
   "cell_type": "code",
   "execution_count": 10,
   "metadata": {},
   "outputs": [
    {
     "data": {
      "text/plain": [
       "(100000, 3)"
      ]
     },
     "execution_count": 10,
     "metadata": {},
     "output_type": "execute_result"
    }
   ],
   "source": [
    "df_new.shape"
   ]
  },
  {
   "cell_type": "code",
   "execution_count": 11,
   "metadata": {},
   "outputs": [
    {
     "data": {
      "text/html": [
       "<div>\n",
       "<style scoped>\n",
       "    .dataframe tbody tr th:only-of-type {\n",
       "        vertical-align: middle;\n",
       "    }\n",
       "\n",
       "    .dataframe tbody tr th {\n",
       "        vertical-align: top;\n",
       "    }\n",
       "\n",
       "    .dataframe thead th {\n",
       "        text-align: right;\n",
       "    }\n",
       "</style>\n",
       "<table border=\"1\" class=\"dataframe\">\n",
       "  <thead>\n",
       "    <tr style=\"text-align: right;\">\n",
       "      <th></th>\n",
       "      <th>parent_comment</th>\n",
       "      <th>comment</th>\n",
       "      <th>label</th>\n",
       "    </tr>\n",
       "  </thead>\n",
       "  <tbody>\n",
       "    <tr>\n",
       "      <th>782258</th>\n",
       "      <td>Dear Libertarians I wish that you were all dea...</td>\n",
       "      <td>Cool story, bro.</td>\n",
       "      <td>0</td>\n",
       "    </tr>\n",
       "    <tr>\n",
       "      <th>617258</th>\n",
       "      <td>I am a person who is unhappy with Starbound. I...</td>\n",
       "      <td>That and outside of the main quest there is ab...</td>\n",
       "      <td>0</td>\n",
       "    </tr>\n",
       "    <tr>\n",
       "      <th>646561</th>\n",
       "      <td>So I calculated that on a website im 5' 11\" an...</td>\n",
       "      <td>Not a lot more but a small surplus of a few hu...</td>\n",
       "      <td>0</td>\n",
       "    </tr>\n",
       "    <tr>\n",
       "      <th>157433</th>\n",
       "      <td>Socialists who argue that one need only look a...</td>\n",
       "      <td>No, no, no, we just didn't try hard enough!</td>\n",
       "      <td>1</td>\n",
       "    </tr>\n",
       "    <tr>\n",
       "      <th>298149</th>\n",
       "      <td>It's written in stone. Don't blame \"people lik...</td>\n",
       "      <td>Yeah, well, we are working on carving a new me...</td>\n",
       "      <td>0</td>\n",
       "    </tr>\n",
       "  </tbody>\n",
       "</table>\n",
       "</div>"
      ],
      "text/plain": [
       "                                           parent_comment  \\\n",
       "782258  Dear Libertarians I wish that you were all dea...   \n",
       "617258  I am a person who is unhappy with Starbound. I...   \n",
       "646561  So I calculated that on a website im 5' 11\" an...   \n",
       "157433  Socialists who argue that one need only look a...   \n",
       "298149  It's written in stone. Don't blame \"people lik...   \n",
       "\n",
       "                                                  comment  label  \n",
       "782258                                   Cool story, bro.      0  \n",
       "617258  That and outside of the main quest there is ab...      0  \n",
       "646561  Not a lot more but a small surplus of a few hu...      0  \n",
       "157433        No, no, no, we just didn't try hard enough!      1  \n",
       "298149  Yeah, well, we are working on carving a new me...      0  "
      ]
     },
     "execution_count": 11,
     "metadata": {},
     "output_type": "execute_result"
    }
   ],
   "source": [
    "df_new.head()"
   ]
  },
  {
   "cell_type": "code",
   "execution_count": 12,
   "metadata": {},
   "outputs": [],
   "source": [
    "def remove_stopwords(tokens):\n",
    "    tokens_wo_stopwords = []\n",
    "    for i in range(0,len(tokens)):\n",
    "        if tokens[i].lower() not in stop_words:\n",
    "            tokens_wo_stopwords.append(tokens[i].lower())\n",
    "    return tokens_wo_stopwords"
   ]
  },
  {
   "cell_type": "code",
   "execution_count": 13,
   "metadata": {},
   "outputs": [],
   "source": [
    "def get_pos_tag(token):\n",
    "    pos_tag = nltk.pos_tag([token])[0][1]\n",
    "    if pos_tag.startswith('N'):\n",
    "        return wordnet.NOUN\n",
    "    elif pos_tag.startswith('V'):\n",
    "        return wordnet.VERB\n",
    "    elif pos_tag.startswith('J'):\n",
    "        return wordnet.ADJ\n",
    "    elif pos_tag.startswith('R'):\n",
    "        return wordnet.ADV\n",
    "    else:\n",
    "        return wordnet.NOUN"
   ]
  },
  {
   "cell_type": "code",
   "execution_count": 14,
   "metadata": {},
   "outputs": [],
   "source": [
    "def lemmatize(tokens):\n",
    "    lemmatizer = WordNetLemmatizer()\n",
    "    for i in range(0,len(tokens)):\n",
    "        tokens[i] = lemmatizer.lemmatize(tokens[i],pos=str(get_pos_tag(tokens[i])))\n",
    "    return tokens"
   ]
  },
  {
   "cell_type": "code",
   "execution_count": 15,
   "metadata": {},
   "outputs": [],
   "source": [
    "def add_to_dictionary(tokens):\n",
    "    for token in tokens:\n",
    "        if token not in dictionary:\n",
    "            dictionary.append(token)"
   ]
  },
  {
   "cell_type": "code",
   "execution_count": 16,
   "metadata": {},
   "outputs": [],
   "source": [
    "def save_dictionary():\n",
    "    with open('data/processed/dictionary.txt','w') as file:\n",
    "        file.writelines(\"%s\\n\" % word for word in dictionary)"
   ]
  },
  {
   "cell_type": "code",
   "execution_count": 17,
   "metadata": {},
   "outputs": [],
   "source": [
    "def read_dictionary():\n",
    "    with open('data/processed/dictionary.txt','r') as file:\n",
    "        temp = file.read().splitlines()\n",
    "        for i in range(0,len(temp)):\n",
    "            dictionary.append(temp[i])"
   ]
  },
  {
   "cell_type": "code",
   "execution_count": 18,
   "metadata": {},
   "outputs": [],
   "source": [
    "def preprocess(sentence):\n",
    "    processed_sentence = re.sub(r'[^a-zA-Z]', ' ', sentence)\n",
    "    tokens_comment = word_tokenize(processed_sentence)\n",
    "    tokens_comment = remove_stopwords(tokens_comment)\n",
    "    tokens_comment = lemmatize(tokens_comment)\n",
    "    return tokens_comment"
   ]
  },
  {
   "cell_type": "code",
   "execution_count": 19,
   "metadata": {},
   "outputs": [],
   "source": [
    "def create_dictionary(dataset):\n",
    "    for index,row in dataset.iterrows():\n",
    "        tokens_comment = preprocess(str(row['parent_comment']) + \" \" + str(row['comment']))\n",
    "        add_to_dictionary(tokens_comment)\n",
    "    save_dictionary()"
   ]
  },
  {
   "cell_type": "code",
   "execution_count": 20,
   "metadata": {},
   "outputs": [],
   "source": [
    "def populate_embeddings_dict():\n",
    "    starttime = time.time()\n",
    "    with open('data/processed/glove.6B.300d.txt','r') as file:\n",
    "        for line in file:\n",
    "            values = line.split()\n",
    "            word = values[0]\n",
    "            word_embedding = np.asarray(values[1:])\n",
    "            embeddings[word] = word_embedding\n",
    "    endtime = time.time()\n",
    "    print(\"Time taken to load embeddings:- \")\n",
    "    print(endtime - starttime)"
   ]
  },
  {
   "cell_type": "code",
   "execution_count": 21,
   "metadata": {},
   "outputs": [],
   "source": [
    "def embedding_lookup(x,embedding_dim=300):\n",
    "    if(len(embeddings) == 0):\n",
    "        populate_embeddings_dict()\n",
    "    embedding = []\n",
    "    for i in range(0,len(x)):\n",
    "        if(x[i] in embeddings):\n",
    "            embedding.append(embeddings[x[i]])\n",
    "        else:\n",
    "            zero_arr = np.zeros(embedding_dim).tolist()\n",
    "            embedding.append(zero_arr)\n",
    "    embedding = np.array(embedding)\n",
    "    return embedding"
   ]
  },
  {
   "cell_type": "code",
   "execution_count": 22,
   "metadata": {},
   "outputs": [],
   "source": [
    "if not os.path.isfile('data/processed/dictionary.txt'):\n",
    "    starttime = time.time()\n",
    "    create_dictionary(df_new)\n",
    "    endtime = time.time()\n",
    "    print(\"Time to create dictionary\")\n",
    "    print(endtime - starttime)\n",
    "else:   \n",
    "    read_dictionary()"
   ]
  },
  {
   "cell_type": "code",
   "execution_count": 23,
   "metadata": {},
   "outputs": [
    {
     "data": {
      "text/plain": [
       "67028"
      ]
     },
     "execution_count": 23,
     "metadata": {},
     "output_type": "execute_result"
    }
   ],
   "source": [
    "len(dictionary)"
   ]
  },
  {
   "cell_type": "code",
   "execution_count": 24,
   "metadata": {},
   "outputs": [
    {
     "name": "stdout",
     "output_type": "stream",
     "text": [
      "Time taken to load embeddings:- \n",
      "35.096932888031006\n"
     ]
    }
   ],
   "source": [
    "embeddings = embedding_lookup(preprocess(df_new['comment'].iloc[0]))"
   ]
  },
  {
   "cell_type": "code",
   "execution_count": 25,
   "metadata": {},
   "outputs": [
    {
     "data": {
      "text/plain": [
       "array([['0.44874', '-0.4454', '-0.20424', '-0.15572', '-0.17863',\n",
       "        '-0.17937', '0.16693', '0.19144', '0.1905', '-1.2896', '0.18248',\n",
       "        '-0.21426', '0.085121', '-0.0058638', '-0.026263', '0.0016149',\n",
       "        '-0.36555', '-0.28236', '0.17898', '0.7489', '0.32092',\n",
       "        '0.74883', '0.081232', '-0.058681', '-0.20367', '-0.38068',\n",
       "        '0.18391', '0.09356', '-0.06925', '-0.47984', '-0.49404',\n",
       "        '0.058204', '-0.4334', '-0.26631', '-0.99599', '0.29223',\n",
       "        '-0.023785', '0.18912', '-0.36762', '0.34751', '0.048832',\n",
       "        '0.036862', '-0.35062', '0.10833', '0.4946', '-0.039863',\n",
       "        '0.39128', '-0.020769', '-0.12705', '0.046382', '-0.21406',\n",
       "        '-0.59181', '0.21041', '-0.56966', '-0.24769', '0.38859',\n",
       "        '-0.28034', '0.034968', '0.18841', '0.024812', '0.3951',\n",
       "        '0.35182', '0.3994', '0.16125', '-0.44957', '0.24849', '0.23305',\n",
       "        '0.45207', '-0.06272', '-0.17149', '-0.17172', '0.068708',\n",
       "        '0.11551', '0.25054', '-0.28774', '-0.16684', '0.27381',\n",
       "        '-0.011397', '-0.30798', '-0.83347', '-0.071585', '-0.0055025',\n",
       "        '-0.30456', '-0.34992', '0.22609', '0.071457', '-0.40954',\n",
       "        '0.50268', '-0.1923', '-0.18743', '-0.081633', '0.28438',\n",
       "        '0.019232', '-0.20621', '-0.35405', '0.11008', '0.39073',\n",
       "        '0.28297', '-0.25589', '-0.021105', '-0.27977', '-0.29185',\n",
       "        '-0.078045', '0.022613', '-0.075677', '-0.090885', '-0.65828',\n",
       "        '0.35586', '0.17445', '0.14168', '0.28787', '-0.041357',\n",
       "        '0.12109', '-0.16702', '-0.36207', '-0.20528', '-0.27496',\n",
       "        '0.23108', '0.17463', '-0.083284', '-0.15736', '-0.30389',\n",
       "        '-0.35668', '0.36021', '-0.13257', '0.45379', '0.057279',\n",
       "        '0.0099825', '0.14006', '-0.29028', '-0.098165', '0.70843',\n",
       "        '0.34807', '0.32953', '0.002531', '-0.17779', '-0.27737',\n",
       "        '-0.077174', '-0.18016', '0.0058945', '0.3323', '-0.041585',\n",
       "        '-0.24417', '0.15559', '-0.71168', '0.31978', '-0.20235',\n",
       "        '-0.1391', '0.32835', '-0.23347', '-0.36204', '-0.19822',\n",
       "        '-0.11254', '-0.19162', '0.81234', '-0.11773', '-0.090821',\n",
       "        '-0.012381', '-0.20655', '0.39727', '-0.12859', '-0.51444',\n",
       "        '-0.069508', '-0.51492', '0.17492', '-0.39085', '0.30431',\n",
       "        '0.20866', '0.20814', '0.081704', '0.43346', '0.36692',\n",
       "        '-0.7234', '-0.22624', '0.35103', '0.40185', '-0.066207',\n",
       "        '-0.44122', '0.088056', '-0.1141', '-0.25569', '-0.41572',\n",
       "        '0.55871', '-0.05316', '0.03282', '0.11204', '1.17', '-0.52161',\n",
       "        '-0.45347', '-0.14356', '0.15812', '0.35026', '-0.24765',\n",
       "        '0.45916', '-0.30463', '-0.54401', '-0.76729', '0.27121',\n",
       "        '-0.28832', '-0.28877', '0.92026', '-0.55504', '0.89317',\n",
       "        '0.72846', '-0.034564', '-0.47318', '-0.35406', '0.010974',\n",
       "        '-0.3657', '-0.43079', '0.128', '-0.0073274', '-0.024473',\n",
       "        '-0.24949', '0.14662', '-0.59969', '0.31741', '-0.65881',\n",
       "        '0.099875', '-0.31075', '0.41238', '-0.037321', '-0.11839',\n",
       "        '0.3218', '-0.35082', '0.067191', '-0.27724', '0.07873',\n",
       "        '0.31168', '0.16752', '0.41795', '-0.43803', '-0.14223',\n",
       "        '-0.7233', '-0.20296', '-0.30294', '-0.28651', '-0.41819',\n",
       "        '-0.71467', '0.018165', '0.033627', '-0.10131', '-0.52418',\n",
       "        '1.0111', '-0.29982', '0.029605', '0.27006', '-0.21342',\n",
       "        '-0.40335', '-0.61184', '0.34844', '-0.64999', '0.35635',\n",
       "        '0.3026', '-0.029668', '-0.081819', '0.26356', '-0.021661',\n",
       "        '-0.30046', '0.10017', '-0.093733', '-0.59904', '-0.74793',\n",
       "        '0.33489', '-0.56252', '0.018978', '-0.11927', '0.34142',\n",
       "        '0.61782', '0.0074694', '0.11553', '-0.16533', '-0.21368',\n",
       "        '-0.18144', '0.068883', '0.32689', '-1.0713', '0.40936',\n",
       "        '-0.35786', '-0.51646', '-0.16331', '0.11448', '-0.30322',\n",
       "        '0.22718', '-0.18747', '0.30216', '0.015925', '0.26171',\n",
       "        '0.013634', '0.020713', '-0.12224', '0.22727', '-0.4159',\n",
       "        '0.70634', '0.51108', '-0.040447', '-0.13281', '0.015896',\n",
       "        '-0.34353', '0.36559'],\n",
       "       ['-0.20664', '-0.1377', '-0.11119', '-0.45468', '0.26058',\n",
       "        '0.5254', '-0.38938', '-0.051225', '-0.25331', '-1.0623',\n",
       "        '0.49946', '-0.22721', '0.24431', '0.44125', '-0.25686',\n",
       "        '-0.36411', '-0.26148', '0.020742', '0.48988', '0.10171',\n",
       "        '-0.58241', '0.67705', '0.095528', '0.9445', '0.48909',\n",
       "        '0.15372', '0.33855', '-0.28335', '-0.62372', '-0.037464',\n",
       "        '-0.38277', '0.64517', '-0.54923', '-0.047495', '-0.8169',\n",
       "        '0.25042', '-0.069976', '0.33032', '0.65513', '0.29862',\n",
       "        '0.25241', '-0.71079', '-0.27669', '0.41021', '-0.056286',\n",
       "        '0.41641', '0.011649', '-0.039611', '-0.42905', '0.16406',\n",
       "        '0.25736', '0.4877', '0.14139', '0.17807', '0.22193', '0.2354',\n",
       "        '0.34372', '0.34454', '0.15495', '-0.61916', '0.38494',\n",
       "        '-0.022318', '0.82599', '-0.085096', '-0.13721', '-0.25257',\n",
       "        '0.51009', '-0.32507', '0.61214', '-0.29401', '-0.056908',\n",
       "        '-0.41043', '-0.064196', '0.32397', '-0.26547', '-0.13678',\n",
       "        '0.42281', '0.017942', '0.15506', '0.016298', '0.42983',\n",
       "        '0.61759', '0.262', '0.14753', '-0.46867', '0.35908', '-0.20467',\n",
       "        '0.33098', '0.45225', '-0.071133', '-0.30491', '-0.32225',\n",
       "        '0.13894', '0.16632', '-0.16969', '-0.25454', '-0.21298',\n",
       "        '0.32291', '0.25086', '-0.81632', '-0.10919', '0.57654',\n",
       "        '-0.2221', '0.074956', '0.52224', '-0.54317', '0.73018',\n",
       "        '-0.0051186', '0.20238', '0.33182', '-0.163', '0.45884',\n",
       "        '-0.1056', '-0.12063', '0.37786', '0.37621', '-0.16227',\n",
       "        '0.32306', '-0.23117', '-0.72803', '0.30561', '-0.046741',\n",
       "        '0.29515', '0.34117', '-0.064011', '-0.2798', '-0.23167',\n",
       "        '-0.25815', '-0.26', '-0.28554', '0.14451', '0.78202',\n",
       "        '-0.017713', '0.32555', '0.15178', '-0.054154', '-0.5924',\n",
       "        '-0.087254', '-0.37683', '0.082196', '0.26161', '-0.1083',\n",
       "        '-0.31894', '0.28977', '-0.44921', '-0.25345', '-0.22368',\n",
       "        '0.67441', '-0.049447', '0.19641', '0.0045829', '-0.051742',\n",
       "        '0.37713', '-0.072744', '0.50643', '-0.28305', '0.15321',\n",
       "        '0.40792', '0.042954', '0.12371', '0.41806', '-0.044088',\n",
       "        '0.2604', '0.0017206', '-0.064225', '0.70046', '-0.3621',\n",
       "        '-0.12145', '-0.74856', '-0.21536', '-0.22276', '-0.73846',\n",
       "        '-1.3328', '0.27782', '-0.28011', '0.20327', '-0.48512',\n",
       "        '-0.22074', '-0.15268', '-0.53518', '-0.44601', '-0.32356',\n",
       "        '0.034223', '0.16066', '-0.22933', '-0.25526', '-0.45426',\n",
       "        '-0.12799', '0.3312', '0.61778', '-0.51854', '0.12209',\n",
       "        '-0.063702', '-0.03855', '-0.41579', '0.12273', '-0.28071',\n",
       "        '0.075951', '-0.42875', '-0.053478', '0.96703', '-0.66291',\n",
       "        '-0.2448', '-0.053863', '0.49445', '0.18043', '-0.13792',\n",
       "        '-0.038089', '-0.24606', '-0.32325', '-0.26952', '-0.31707',\n",
       "        '0.23377', '0.094099', '0.35651', '0.31812', '-0.093718',\n",
       "        '0.2373', '0.2502', '0.2083', '0.073239', '0.15269', '0.15305',\n",
       "        '0.35261', '0.31656', '-0.11675', '0.10508', '-0.086528',\n",
       "        '-0.12636', '0.0096867', '-0.31884', '-0.39861', '-0.3995',\n",
       "        '-0.24369', '-0.095063', '0.3711', '0.35439', '-0.004144',\n",
       "        '-0.05964', '0.040293', '0.30708', '-0.11099', '-0.31568',\n",
       "        '-0.20227', '-0.74445', '-0.48758', '-0.48003', '0.16591',\n",
       "        '-0.5119', '0.34612', '-0.059714', '-0.055747', '-0.31226',\n",
       "        '0.15583', '0.9529', '-0.40699', '0.47537', '-0.028467',\n",
       "        '0.28157', '-0.25231', '0.10504', '-0.1072', '0.31428',\n",
       "        '-0.51487', '0.21992', '0.026937', '0.13586', '-0.18432',\n",
       "        '0.42792', '0.15985', '-0.2704', '-0.41935', '0.63915',\n",
       "        '0.29531', '0.08735', '0.57044', '-1.1967', '-0.056318',\n",
       "        '0.73203', '0.042468', '0.081346', '0.20587', '-0.44651',\n",
       "        '-0.40383', '0.10278', '0.0093659', '-0.27323', '0.19402',\n",
       "        '-0.39036', '-0.13449', '0.011879', '0.047758', '0.10301',\n",
       "        '0.16055', '-0.29739', '-0.088409', '-0.27439', '0.27927',\n",
       "        '-0.0069871', '0.13851'],\n",
       "       ['-0.05605', '-0.50551', '0.097701', '0.31291', '-0.41336',\n",
       "        '0.045341', '-0.29564', '0.23193', '-0.47983', '0.22098',\n",
       "        '-0.088356', '-0.37438', '-0.11744', '-0.46158', '-0.011523',\n",
       "        '-0.098257', '-0.36249', '0.071379', '0.40658', '0.29827',\n",
       "        '0.43819', '0.43417', '-0.50164', '-0.41398', '-0.22313',\n",
       "        '0.25379', '-0.20662', '-0.29672', '0.1591', '-0.89266',\n",
       "        '0.54414', '-0.3984', '-0.36215', '0.64428', '0.26468',\n",
       "        '-0.12259', '-0.43011', '-0.09281', '0.023091', '-0.25002',\n",
       "        '-0.14482', '0.1267', '-0.12805', '0.0086972', '-0.86376',\n",
       "        '0.17638', '0.046324', '0.050526', '0.2296', '-0.20029',\n",
       "        '-0.15674', '0.053174', '-0.01393', '0.0037434', '-0.043216',\n",
       "        '0.28834', '-0.066734', '0.57437', '-0.1787', '-0.21575',\n",
       "        '0.32385', '0.26178', '-0.26294', '0.55086', '0.19279',\n",
       "        '0.21323', '-0.021395', '0.18542', '0.21328', '-0.29783',\n",
       "        '-0.083248', '-0.12722', '-0.088473', '0.45608', '0.16312',\n",
       "        '-0.1209', '0.077226', '-0.26911', '-0.41185', '-0.095622',\n",
       "        '0.058155', '0.17741', '0.27326', '-0.21768', '0.22287',\n",
       "        '-0.10088', '-0.34325', '0.32926', '-0.015529', '0.053971',\n",
       "        '-0.45551', '0.20021', '0.28186', '-0.65036', '-0.11786',\n",
       "        '-0.087057', '0.65456', '0.0099191', '-0.37849', '0.50961',\n",
       "        '0.35346', '-0.66309', '-0.091836', '-0.1275', '-0.055761',\n",
       "        '-0.90018', '-0.23511', '0.86157', '0.22496', '-0.31456',\n",
       "        '-0.21942', '-0.51072', '-0.51957', '0.29801', '0.056059',\n",
       "        '-0.17289', '0.12586', '0.34188', '-0.16541', '-0.21034',\n",
       "        '-0.28242', '0.14583', '0.37468', '-0.14663', '0.30673',\n",
       "        '-0.47511', '0.68401', '0.51106', '0.0089778', '-0.20728',\n",
       "        '0.51119', '0.064689', '0.41685', '0.15047', '0.34982',\n",
       "        '0.0018218', '0.41952', '0.38845', '-0.22058', '0.021436',\n",
       "        '-0.64356', '0.3784', '-0.029453', '-0.2257', '0.19983',\n",
       "        '0.26471', '-0.23033', '0.31839', '0.21914', '0.10052',\n",
       "        '-0.096692', '0.34128', '0.088034', '0.25807', '-0.10813',\n",
       "        '-0.096645', '0.68006', '-0.085582', '-0.085374', '-0.42058',\n",
       "        '-0.54914', '0.28572', '0.032616', '-0.34881', '-0.43683',\n",
       "        '0.33863', '-0.0034857', '0.21828', '0.2014', '-0.1544',\n",
       "        '0.25474', '0.45774', '0.30799', '-0.35002', '0.72344',\n",
       "        '0.055423', '0.02415', '-0.39351', '0.30482', '-0.049541',\n",
       "        '0.16059', '-0.014602', '-0.25128', '-0.40377', '-0.23706',\n",
       "        '-0.33724', '-0.15909', '-0.072159', '0.54405', '-0.16491',\n",
       "        '0.44148', '-0.13023', '0.021141', '0.23611', '-0.03185',\n",
       "        '-0.16966', '-0.015281', '0.14439', '0.50445', '-0.15436',\n",
       "        '-0.26218', '0.16392', '0.61472', '0.23342', '0.17728',\n",
       "        '-0.38086', '-0.0025044', '0.031322', '-0.33667', '-0.075438',\n",
       "        '-0.38498', '-0.0085713', '-0.084157', '0.014027', '-0.083419',\n",
       "        '-0.27946', '-0.41668', '-0.17286', '0.29392', '-0.38999',\n",
       "        '-0.34398', '-0.48959', '0.40273', '0.22502', '0.068749',\n",
       "        '-0.072748', '0.20956', '0.035948', '-0.2577', '-0.16687',\n",
       "        '0.23677', '0.3996', '-0.56895', '-0.68645', '0.10204',\n",
       "        '-0.13629', '-0.036251', '0.22471', '0.21876', '0.32969',\n",
       "        '-0.07707', '-0.023932', '-0.32201', '-0.16877', '-0.061534',\n",
       "        '0.30023', '-0.49993', '0.063732', '-0.20549', '-0.087386',\n",
       "        '0.30139', '0.38649', '-0.20945', '-0.2734', '-0.36524',\n",
       "        '0.056348', '-0.19283', '-0.43456', '-0.58565', '-0.32169',\n",
       "        '-0.38676', '-0.38783', '-0.097386', '0.45722', '0.22688',\n",
       "        '0.15658', '-0.24773', '-0.1935', '-0.1758', '0.55939',\n",
       "        '-0.29855', '-0.10709', '0.60863', '0.11387', '0.18545',\n",
       "        '-0.43543', '1.2736', '0.1388', '-0.36556', '0.3929', '0.1481',\n",
       "        '0.35208', '-0.21108', '-0.011488', '-0.18553', '0.23278',\n",
       "        '-0.17394', '0.062508', '0.44205', '-0.0055448', '-0.15673',\n",
       "        '-0.35675', '0.44926', '-0.045367', '-0.50207', '-0.587',\n",
       "        '0.32791', '0.65491', '0.00093855', '0.5384']], dtype='<U10')"
      ]
     },
     "execution_count": 25,
     "metadata": {},
     "output_type": "execute_result"
    }
   ],
   "source": [
    "embeddings"
   ]
  },
  {
   "cell_type": "code",
   "execution_count": 26,
   "metadata": {},
   "outputs": [
    {
     "data": {
      "text/plain": [
       "['cool', 'story', 'bro']"
      ]
     },
     "execution_count": 26,
     "metadata": {},
     "output_type": "execute_result"
    }
   ],
   "source": [
    "preprocess(df_new['comment'].iloc[0])"
   ]
  },
  {
   "cell_type": "code",
   "execution_count": null,
   "metadata": {},
   "outputs": [],
   "source": [
    "elmo = hub.Module(\"https://tfhub.dev/google/elmo/2\",trainable=True)"
   ]
  },
  {
   "cell_type": "code",
   "execution_count": null,
   "metadata": {},
   "outputs": [],
   "source": [
    "def get_elmo_embeddings(tokens):\n",
    "    embeddings = elmo(tokens,signature='default',as_dict=True)[\"elmo\"]\n",
    "    with tf.Session() as sess:\n",
    "        sess.run(tf.global_variables_initializer())\n",
    "        sess.run(tf.tables_initializer())\n",
    "        return sess.run(tf.reduce_mean(embeddings,1))"
   ]
  },
  {
   "cell_type": "code",
   "execution_count": null,
   "metadata": {},
   "outputs": [],
   "source": [
    " "
   ]
  }
 ],
 "metadata": {
  "kernelspec": {
   "display_name": "Python 3",
   "language": "python",
   "name": "python3"
  },
  "language_info": {
   "codemirror_mode": {
    "name": "ipython",
    "version": 3
   },
   "file_extension": ".py",
   "mimetype": "text/x-python",
   "name": "python",
   "nbconvert_exporter": "python",
   "pygments_lexer": "ipython3",
   "version": "3.6.7"
  }
 },
 "nbformat": 4,
 "nbformat_minor": 2
}
